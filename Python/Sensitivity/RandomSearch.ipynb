{
 "cells": [
  {
   "cell_type": "code",
   "execution_count": 1,
   "metadata": {},
   "outputs": [],
   "source": [
    "from math import sqrt\n",
    "from numpy import concatenate\n",
    "from matplotlib import pyplot\n",
    "from pandas import read_csv\n",
    "from pandas import DataFrame\n",
    "from pandas import concat\n",
    "from sklearn.preprocessing import MinMaxScaler\n",
    "from sklearn.preprocessing import LabelEncoder\n",
    "from sklearn.metrics import mean_squared_error\n",
    "from tensorflow.keras.models import Sequential\n",
    "from tensorflow.keras.layers import Dense\n",
    "from tensorflow.keras.layers import LSTM\n",
    "from tensorflow.keras.callbacks import EarlyStopping\n",
    "import tensorflow.keras as keras\n",
    "import tensorflow as tf\n",
    "from tensorflow import keras\n",
    "import keras_tuner as kt"
   ]
  },
  {
   "cell_type": "code",
   "execution_count": 2,
   "metadata": {},
   "outputs": [],
   "source": [
    "from pandas import DataFrame\n",
    "from pandas import concat\n",
    " \n",
    "def series_to_supervised(data, n_in=1, n_out=1, dropnan=True):\n",
    "\t\"\"\"\n",
    "\tFrame a time series as a supervised learning dataset.\n",
    "\tArguments:\n",
    "\t\tdata: Sequence of observations as a list or NumPy array.\n",
    "\t\tn_in: Number of lag observations as input (X).\n",
    "\t\tn_out: Number of observations as output (y).\n",
    "\t\tdropnan: Boolean whether or not to drop rows with NaN values.\n",
    "\tReturns:\n",
    "\t\tPandas DataFrame of series framed for supervised learning.\n",
    "\t\"\"\"\n",
    "\tn_vars = 1 if type(data) is list else data.shape[1]\n",
    "\tdf = DataFrame(data)\n",
    "\tcols, names = list(), list()\n",
    "\t# input sequence (t-n, ... t-1)\n",
    "\tfor i in range(n_in, 0, -1):\n",
    "\t\tcols.append(df.shift(i))\n",
    "\t\tnames += [('var%d(t-%d)' % (j+1, i)) for j in range(n_vars)]\n",
    "\t# forecast sequence (t, t+1, ... t+n)\n",
    "\tfor i in range(0, n_out):\n",
    "\t\tcols.append(df.shift(-i))\n",
    "\t\tif i == 0:\n",
    "\t\t\tnames += [('var%d(t)' % (j+1)) for j in range(n_vars)]\n",
    "\t\telse:\n",
    "\t\t\tnames += [('var%d(t+%d)' % (j+1, i)) for j in range(n_vars)]\n",
    "\t# put it all together\n",
    "\tagg = concat(cols, axis=1)\n",
    "\tagg.columns = names\n",
    "\t# drop rows with NaN values\n",
    "\tif dropnan:\n",
    "\t\tagg.dropna(inplace=True)\n",
    "\treturn agg"
   ]
  },
  {
   "cell_type": "code",
   "execution_count": 3,
   "metadata": {},
   "outputs": [
    {
     "name": "stdout",
     "output_type": "stream",
     "text": [
      "(1302, 35) 1302 (1302,)\n"
     ]
    }
   ],
   "source": [
    "from pandas import read_csv\n",
    "\n",
    "table = read_csv('/Users/davidguzman/Downloads/Quadranti.csv')\n",
    "\n",
    "Moggio = table.dropna(how=\"any\")\n",
    "Moggio = Moggio.reset_index()\n",
    "\n",
    "values = Moggio.iloc[:,3:].values\n",
    "# ensure all data is float\n",
    "values = values.astype('float32')\n",
    "# normalize features\n",
    "scaler = MinMaxScaler(feature_range=(0, 1))\n",
    "scaled = scaler.fit_transform(values)\n",
    "# frame as supervised learning\n",
    "n_days = 5\n",
    "reframed = series_to_supervised(scaled, n_days, 1) # info of the past 5 days to determine next (1) day\n",
    "# drop columns we don't want to predict (we therefore keep Ammonia)\n",
    "reframed.drop(reframed.columns[[36,37,38,39,40,41]], axis=1, inplace=True)\n",
    "\n",
    "# split into train and test sets\n",
    "values = reframed.values\n",
    "n_features = 7 # number of variables, including the one to be predicted\n",
    "n_train_days = 1667-365 # we train using only the first year\n",
    "train = values[:n_train_days, :]\n",
    "test = values[n_train_days:, :] # we test using all successive years \n",
    "# split into input and outputs\n",
    "n_obs = n_days * n_features\n",
    "train_X, train_y = train[:, :n_obs], train[:, -1]\n",
    "test_X, test_y = test[:, :n_obs], test[:, -1]\n",
    "print(train_X.shape, len(train_X), train_y.shape)\n",
    "# reshape input to be 3D [samples, timesteps, features]\n",
    "train_X = train_X.reshape((train_X.shape[0], n_days, n_features))\n",
    "test_X = test_X.reshape((test_X.shape[0], n_days, n_features))"
   ]
  },
  {
   "cell_type": "code",
   "execution_count": 10,
   "metadata": {},
   "outputs": [],
   "source": [
    "class MyHyperModel(kt.HyperModel):\n",
    "    def build(self, hp):\n",
    "        hp_units = hp.Int('units', min_value=10, max_value=60, step=10)\n",
    "        model = Sequential()\n",
    "        model.add(LSTM(units = hp_units,return_sequences=True, input_shape=(train_X.shape[1], train_X.shape[2])))\n",
    "        for i in range(hp.Int('layers',1,4)):\n",
    "            model.add(LSTM(units = hp_units, return_sequences=True))\n",
    "        model.add(LSTM(units = hp_units, return_sequences=False))\n",
    "        model.add(Dense(1))\n",
    "        hp_learning_rate = hp.Choice('learning_rate', values=[1e-2, 1e-3, 1e-4])\n",
    "        model.compile(loss='mae', optimizer=keras.optimizers.Adam(learning_rate=hp_learning_rate))\n",
    "        return model\n",
    "\n",
    "    def fit(self, hp, model, *args, **kwargs):\n",
    "        return model.fit(\n",
    "            *args,\n",
    "            batch_size=hp.Choice(\"batch_size\", [16, 32, 64, 128]),\n",
    "            **kwargs,\n",
    "        )\n"
   ]
  },
  {
   "cell_type": "code",
   "execution_count": 14,
   "metadata": {},
   "outputs": [
    {
     "name": "stdout",
     "output_type": "stream",
     "text": [
      "Search space summary\n",
      "Default search space size: 3\n",
      "units (Int)\n",
      "{'default': None, 'conditions': [], 'min_value': 10, 'max_value': 60, 'step': 10, 'sampling': None}\n",
      "layers (Int)\n",
      "{'default': None, 'conditions': [], 'min_value': 1, 'max_value': 4, 'step': 1, 'sampling': None}\n",
      "learning_rate (Choice)\n",
      "{'default': 0.01, 'conditions': [], 'values': [0.01, 0.001, 0.0001], 'ordered': True}\n"
     ]
    }
   ],
   "source": [
    "tuner = kt.RandomSearch(\n",
    "    MyHyperModel(),\n",
    "    objective='val_loss',\n",
    "    max_trials=10,\n",
    "    executions_per_trial =5,\n",
    "    overwrite=True,\n",
    "    directory = 'dir',\n",
    "    project_name = 'tune_hypermodel')\n",
    "tuner.search_space_summary()"
   ]
  },
  {
   "cell_type": "code",
   "execution_count": 15,
   "metadata": {},
   "outputs": [
    {
     "name": "stdout",
     "output_type": "stream",
     "text": [
      "Trial 10 Complete [00h 06m 13s]\n",
      "val_loss: 0.10666555762290955\n",
      "\n",
      "Best val_loss So Far: 0.07498919069766999\n",
      "Total elapsed time: 00h 47m 49s\n",
      "INFO:tensorflow:Oracle triggered exit\n"
     ]
    }
   ],
   "source": [
    "early_stopping = EarlyStopping(monitor='val_loss',patience=10)\n",
    "tuner.search(train_X, train_y, epochs=100, validation_data=(test_X, test_y),shuffle=False, callbacks=[early_stopping])"
   ]
  },
  {
   "cell_type": "code",
   "execution_count": 16,
   "metadata": {},
   "outputs": [
    {
     "name": "stdout",
     "output_type": "stream",
     "text": [
      "Results summary\n",
      "Results in dir/tune_hypermodel\n",
      "Showing 10 best trials\n",
      "Objective(name='val_loss', direction='min')\n",
      "Trial summary\n",
      "Hyperparameters:\n",
      "units: 50\n",
      "layers: 2\n",
      "learning_rate: 0.0001\n",
      "batch_size: 64\n",
      "Score: 0.07498919069766999\n",
      "Trial summary\n",
      "Hyperparameters:\n",
      "units: 30\n",
      "layers: 2\n",
      "learning_rate: 0.0001\n",
      "batch_size: 16\n",
      "Score: 0.07686851322650909\n",
      "Trial summary\n",
      "Hyperparameters:\n",
      "units: 50\n",
      "layers: 2\n",
      "learning_rate: 0.0001\n",
      "batch_size: 16\n",
      "Score: 0.08060681968927383\n",
      "Trial summary\n",
      "Hyperparameters:\n",
      "units: 30\n",
      "layers: 2\n",
      "learning_rate: 0.001\n",
      "batch_size: 16\n",
      "Score: 0.08128337264060974\n",
      "Trial summary\n",
      "Hyperparameters:\n",
      "units: 60\n",
      "layers: 1\n",
      "learning_rate: 0.001\n",
      "batch_size: 32\n",
      "Score: 0.10512280166149139\n",
      "Trial summary\n",
      "Hyperparameters:\n",
      "units: 50\n",
      "layers: 2\n",
      "learning_rate: 0.001\n",
      "batch_size: 16\n",
      "Score: 0.10666555762290955\n",
      "Trial summary\n",
      "Hyperparameters:\n",
      "units: 50\n",
      "layers: 1\n",
      "learning_rate: 0.01\n",
      "batch_size: 32\n",
      "Score: 0.1364109233021736\n",
      "Trial summary\n",
      "Hyperparameters:\n",
      "units: 30\n",
      "layers: 4\n",
      "learning_rate: 0.0001\n",
      "batch_size: 128\n",
      "Score: 0.13752820193767548\n",
      "Trial summary\n",
      "Hyperparameters:\n",
      "units: 40\n",
      "layers: 3\n",
      "learning_rate: 0.01\n",
      "batch_size: 128\n",
      "Score: 0.13943063616752624\n",
      "Trial summary\n",
      "Hyperparameters:\n",
      "units: 60\n",
      "layers: 3\n",
      "learning_rate: 0.01\n",
      "batch_size: 16\n",
      "Score: 0.15155333578586577\n"
     ]
    }
   ],
   "source": [
    "tuner.results_summary()"
   ]
  },
  {
   "cell_type": "code",
   "execution_count": 24,
   "metadata": {},
   "outputs": [
    {
     "name": "stdout",
     "output_type": "stream",
     "text": [
      "WARNING:tensorflow:Unresolved object in checkpoint: (root).optimizer.iter\n",
      "WARNING:tensorflow:Unresolved object in checkpoint: (root).optimizer.beta_1\n",
      "WARNING:tensorflow:Unresolved object in checkpoint: (root).optimizer.beta_2\n",
      "WARNING:tensorflow:Unresolved object in checkpoint: (root).optimizer.decay\n",
      "WARNING:tensorflow:Unresolved object in checkpoint: (root).optimizer.learning_rate\n",
      "WARNING:tensorflow:A checkpoint was restored (e.g. tf.train.Checkpoint.restore or tf.keras.Model.load_weights) but not all checkpointed values were used. See above for specific issues. Use expect_partial() on the load status object, e.g. tf.train.Checkpoint.restore(...).expect_partial(), to silence these warnings, or use assert_consumed() to make the check explicit. See https://www.tensorflow.org/guide/checkpoint#loading_mechanics for details.\n",
      "Model: \"sequential\"\n",
      "_________________________________________________________________\n",
      "Layer (type)                 Output Shape              Param #   \n",
      "=================================================================\n",
      "lstm (LSTM)                  (None, 5, 50)             11600     \n",
      "_________________________________________________________________\n",
      "lstm_1 (LSTM)                (None, 5, 50)             20200     \n",
      "_________________________________________________________________\n",
      "lstm_2 (LSTM)                (None, 5, 50)             20200     \n",
      "_________________________________________________________________\n",
      "lstm_3 (LSTM)                (None, 50)                20200     \n",
      "_________________________________________________________________\n",
      "dense (Dense)                (None, 1)                 51        \n",
      "=================================================================\n",
      "Total params: 72,251\n",
      "Trainable params: 72,251\n",
      "Non-trainable params: 0\n",
      "_________________________________________________________________\n"
     ]
    }
   ],
   "source": [
    "model = tuner.get_best_models()[0]\n",
    "model.summary()\n"
   ]
  },
  {
   "cell_type": "code",
   "execution_count": 25,
   "metadata": {},
   "outputs": [
    {
     "name": "stdout",
     "output_type": "stream",
     "text": [
      "(365, 35) 365 (365,)\n"
     ]
    },
    {
     "name": "stderr",
     "output_type": "stream",
     "text": [
      "2022-02-20 16:10:12.773951: I tensorflow/core/grappler/optimizers/custom_graph_optimizer_registry.cc:112] Plugin optimizer for device_type GPU is enabled.\n",
      "2022-02-20 16:10:12.844955: I tensorflow/core/grappler/optimizers/custom_graph_optimizer_registry.cc:112] Plugin optimizer for device_type GPU is enabled.\n",
      "2022-02-20 16:10:13.077359: I tensorflow/core/grappler/optimizers/custom_graph_optimizer_registry.cc:112] Plugin optimizer for device_type GPU is enabled.\n",
      "2022-02-20 16:10:13.331951: I tensorflow/core/grappler/optimizers/custom_graph_optimizer_registry.cc:112] Plugin optimizer for device_type GPU is enabled.\n",
      "2022-02-20 16:10:13.522724: I tensorflow/core/grappler/optimizers/custom_graph_optimizer_registry.cc:112] Plugin optimizer for device_type GPU is enabled.\n"
     ]
    },
    {
     "name": "stdout",
     "output_type": "stream",
     "text": [
      "Test RMSE: 2.093\n"
     ]
    }
   ],
   "source": [
    "# make a prediction using 2020 (not used for training or validation, and has different dynamics due to covid)\n",
    "# adding back the data from 2020\n",
    "Moggio = table.dropna(how=\"any\")\n",
    "Moggio = Moggio.reset_index()\n",
    "#scaling and creating the new testing data\n",
    "values = Moggio.iloc[:,3:].values\n",
    "# ensure all data is float\n",
    "values = values.astype('float32')\n",
    "# normalize features\n",
    "scaler = MinMaxScaler(feature_range=(0, 1))\n",
    "scaled = scaler.fit_transform(values)\n",
    "# frame as supervised learning\n",
    "n_days = 5\n",
    "reframed = series_to_supervised(scaled, n_days, 1) # info of the past 5 days to determine next (1) day\n",
    "# drop columns we don't want to predict (we therefore keep Ammonia)\n",
    "reframed.drop(reframed.columns[[36,37,38,39,40,41]], axis=1, inplace=True)\n",
    "# split into train and test sets\n",
    "values = reframed.values\n",
    "n_features = 7 # number of variables, including the one to be predicted\n",
    "n_train_days = 365 # we train using only the first year\n",
    "train = values[:n_train_days, :]\n",
    "test = values[n_train_days:, :] # we test using all successive years \n",
    "# split into input and outputs\n",
    "n_obs = n_days * n_features\n",
    "train_X, train_y = train[:, :n_obs], train[:, -1]\n",
    "test_X, test_y = test[:, :n_obs], test[:, -1]\n",
    "print(train_X.shape, len(train_X), train_y.shape)\n",
    "# reshape input to be 3D [samples, timesteps, features]\n",
    "train_X = train_X.reshape((train_X.shape[0], n_days, n_features))\n",
    "test_X = test_X.reshape((test_X.shape[0], n_days, n_features))\n",
    "\n",
    "# make a prediction\n",
    "yhat = model.predict(test_X)\n",
    "test_X = test_X.reshape((test_X.shape[0], n_days*n_features))\n",
    "# invert scaling for forecast\n",
    "inv_yhat = concatenate((yhat, test_X[:, -6:]), axis=1)\n",
    "inv_yhat = scaler.inverse_transform(inv_yhat)\n",
    "inv_yhat = inv_yhat[:,0]\n",
    "# invert scaling for actual\n",
    "test_y = test_y.reshape((len(test_y), 1))\n",
    "inv_y = concatenate((test_y, test_X[:, -6:]), axis=1)\n",
    "inv_y = scaler.inverse_transform(inv_y)\n",
    "inv_y = inv_y[:,0]\n",
    "# calculate RMSE\n",
    "rmse = sqrt(mean_squared_error(inv_y, inv_yhat))\n",
    "print('Test RMSE: %.3f' % rmse)"
   ]
  },
  {
   "cell_type": "code",
   "execution_count": 26,
   "metadata": {},
   "outputs": [
    {
     "data": {
      "image/png": "[encoded data removed]",
      "text/plain": [
       "<Figure size 432x288 with 1 Axes>"
      ]
     },
     "metadata": {
      "needs_background": "light"
     },
     "output_type": "display_data"
    }
   ],
   "source": [
    "pyplot.plot(inv_yhat, label = 'Prediction')\n",
    "pyplot.plot(inv_y, label = 'Real')\n",
    "pyplot.legend()\n",
    "pyplot.show()"
   ]
  }
 ],
 "metadata": {
  "interpreter": {
   "hash": "3b39586a2e73015979fa98f7b8a4dfb5ab44fc15e10eb6580316b49f152adc53"
  },
  "kernelspec": {
   "display_name": "Python 3.9.7 ('nnenv')",
   "language": "python",
   "name": "python3"
  },
  "language_info": {
   "codemirror_mode": {
    "name": "ipython",
    "version": 3
   },
   "file_extension": ".py",
   "mimetype": "text/x-python",
   "name": "python",
   "nbconvert_exporter": "python",
   "pygments_lexer": "ipython3",
   "version": "3.9.7"
  },
  "orig_nbformat": 4
 },
 "nbformat": 4,
 "nbformat_minor": 2
}
