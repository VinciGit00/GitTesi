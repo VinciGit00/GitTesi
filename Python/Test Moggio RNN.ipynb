{
  "cells": [
    {
      "cell_type": "code",
      "execution_count": 1,
      "metadata": {
        "id": "50h6XyhAz59c"
      },
      "outputs": [],
      "source": [
        "from math import sqrt\n",
        "from numpy import concatenate\n",
        "from matplotlib import pyplot\n",
        "from pandas import read_csv\n",
        "from pandas import DataFrame\n",
        "from pandas import concat\n",
        "from sklearn.preprocessing import MinMaxScaler\n",
        "from sklearn.preprocessing import LabelEncoder\n",
        "from sklearn.metrics import mean_squared_error\n",
        "from tensorflow.keras.models import Sequential\n",
        "from tensorflow.keras.layers import Dense\n",
        "from tensorflow.keras.layers import LSTM\n",
        "from tensorflow.keras.callbacks import EarlyStopping"
      ]
    },
    {
      "cell_type": "code",
      "execution_count": null,
      "metadata": {
        "colab": {
          "base_uri": "https://localhost:8080/"
        },
        "id": "xXpk8qbyUKEJ",
        "outputId": "855055fa-6ce0-410f-af6f-563381f95414"
      },
      "outputs": [
        {
          "name": "stdout",
          "output_type": "stream",
          "text": [
            "Mounted at /content/drive\n"
          ]
        }
      ],
      "source": [
        "from google.colab import drive\n",
        "drive.mount('/content/drive')"
      ]
    },
    {
      "cell_type": "code",
      "execution_count": 2,
      "metadata": {
        "colab": {
          "base_uri": "https://localhost:8080/",
          "height": 343
        },
        "id": "eA2CKbjH0LRW",
        "outputId": "831eed5f-c5b4-426d-e6b2-9e49bd317303"
      },
      "outputs": [
        {
          "data": {
            "text/html": [
              "<div>\n",
              "<style scoped>\n",
              "    .dataframe tbody tr th:only-of-type {\n",
              "        vertical-align: middle;\n",
              "    }\n",
              "\n",
              "    .dataframe tbody tr th {\n",
              "        vertical-align: top;\n",
              "    }\n",
              "\n",
              "    .dataframe thead th {\n",
              "        text-align: right;\n",
              "    }\n",
              "</style>\n",
              "<table border=\"1\" class=\"dataframe\">\n",
              "  <thead>\n",
              "    <tr style=\"text-align: right;\">\n",
              "      <th></th>\n",
              "      <th>Date</th>\n",
              "      <th>IDStation</th>\n",
              "      <th>NameStation</th>\n",
              "      <th>Ammonia</th>\n",
              "      <th>Arsenic</th>\n",
              "      <th>Benzene</th>\n",
              "      <th>Benzo_a_pyrene</th>\n",
              "      <th>Cadmium</th>\n",
              "      <th>CO</th>\n",
              "      <th>Lead</th>\n",
              "      <th>...</th>\n",
              "      <th>IDStation.2</th>\n",
              "      <th>NameStation.1</th>\n",
              "      <th>Wind_speed</th>\n",
              "      <th>Wind_direction</th>\n",
              "      <th>Temperature</th>\n",
              "      <th>Relative_humidity</th>\n",
              "      <th>Global_radiation</th>\n",
              "      <th>Wind_speed_max</th>\n",
              "      <th>Wind_direction_max</th>\n",
              "      <th>Rainfall</th>\n",
              "    </tr>\n",
              "  </thead>\n",
              "  <tbody>\n",
              "    <tr>\n",
              "      <th>0</th>\n",
              "      <td>2018-01-01T00:00:00Z</td>\n",
              "      <td>677</td>\n",
              "      <td>Cremona Via Fatebenefratelli</td>\n",
              "      <td>6.2</td>\n",
              "      <td>NaN</td>\n",
              "      <td>NaN</td>\n",
              "      <td>NaN</td>\n",
              "      <td>NaN</td>\n",
              "      <td>0.508333</td>\n",
              "      <td>NaN</td>\n",
              "      <td>...</td>\n",
              "      <td>677</td>\n",
              "      <td>Cremona Via Fatebenefratelli</td>\n",
              "      <td>0.483454</td>\n",
              "      <td>314.0</td>\n",
              "      <td>2.615278</td>\n",
              "      <td>93.738194</td>\n",
              "      <td>21.268056</td>\n",
              "      <td>2.133333</td>\n",
              "      <td>NaN</td>\n",
              "      <td>7.2</td>\n",
              "    </tr>\n",
              "    <tr>\n",
              "      <th>1</th>\n",
              "      <td>2018-01-01T00:00:00Z</td>\n",
              "      <td>681</td>\n",
              "      <td>Moggio</td>\n",
              "      <td>1.4</td>\n",
              "      <td>NaN</td>\n",
              "      <td>NaN</td>\n",
              "      <td>NaN</td>\n",
              "      <td>NaN</td>\n",
              "      <td>NaN</td>\n",
              "      <td>NaN</td>\n",
              "      <td>...</td>\n",
              "      <td>111</td>\n",
              "      <td>Cassina Valsassina Moggio</td>\n",
              "      <td>0.300970</td>\n",
              "      <td>65.0</td>\n",
              "      <td>2.095833</td>\n",
              "      <td>74.055556</td>\n",
              "      <td>60.152778</td>\n",
              "      <td>1.939583</td>\n",
              "      <td>144.0</td>\n",
              "      <td>2.4</td>\n",
              "    </tr>\n",
              "    <tr>\n",
              "      <th>2</th>\n",
              "      <td>2018-01-01T00:00:00Z</td>\n",
              "      <td>703</td>\n",
              "      <td>Schivenoglia</td>\n",
              "      <td>NaN</td>\n",
              "      <td>NaN</td>\n",
              "      <td>1.0</td>\n",
              "      <td>NaN</td>\n",
              "      <td>NaN</td>\n",
              "      <td>1.159091</td>\n",
              "      <td>NaN</td>\n",
              "      <td>...</td>\n",
              "      <td>671</td>\n",
              "      <td>Mantova Tridolino</td>\n",
              "      <td>1.540787</td>\n",
              "      <td>288.0</td>\n",
              "      <td>2.761806</td>\n",
              "      <td>99.475694</td>\n",
              "      <td>14.163194</td>\n",
              "      <td>3.524306</td>\n",
              "      <td>NaN</td>\n",
              "      <td>5.8</td>\n",
              "    </tr>\n",
              "    <tr>\n",
              "      <th>3</th>\n",
              "      <td>2018-01-02T00:00:00Z</td>\n",
              "      <td>677</td>\n",
              "      <td>Cremona Via Fatebenefratelli</td>\n",
              "      <td>1.8</td>\n",
              "      <td>NaN</td>\n",
              "      <td>NaN</td>\n",
              "      <td>NaN</td>\n",
              "      <td>NaN</td>\n",
              "      <td>0.375000</td>\n",
              "      <td>NaN</td>\n",
              "      <td>...</td>\n",
              "      <td>677</td>\n",
              "      <td>Cremona Via Fatebenefratelli</td>\n",
              "      <td>1.788399</td>\n",
              "      <td>284.0</td>\n",
              "      <td>5.974306</td>\n",
              "      <td>70.609722</td>\n",
              "      <td>72.734028</td>\n",
              "      <td>4.377083</td>\n",
              "      <td>NaN</td>\n",
              "      <td>0.0</td>\n",
              "    </tr>\n",
              "    <tr>\n",
              "      <th>4</th>\n",
              "      <td>2018-01-02T00:00:00Z</td>\n",
              "      <td>681</td>\n",
              "      <td>Moggio</td>\n",
              "      <td>1.0</td>\n",
              "      <td>NaN</td>\n",
              "      <td>NaN</td>\n",
              "      <td>NaN</td>\n",
              "      <td>NaN</td>\n",
              "      <td>NaN</td>\n",
              "      <td>NaN</td>\n",
              "      <td>...</td>\n",
              "      <td>111</td>\n",
              "      <td>Cassina Valsassina Moggio</td>\n",
              "      <td>0.613183</td>\n",
              "      <td>9.0</td>\n",
              "      <td>1.670139</td>\n",
              "      <td>39.194444</td>\n",
              "      <td>68.250000</td>\n",
              "      <td>3.075000</td>\n",
              "      <td>213.0</td>\n",
              "      <td>0.0</td>\n",
              "    </tr>\n",
              "  </tbody>\n",
              "</table>\n",
              "<p>5 rows × 31 columns</p>\n",
              "</div>"
            ],
            "text/plain": [
              "                   Date  IDStation                   NameStation  Ammonia  \\\n",
              "0  2018-01-01T00:00:00Z        677  Cremona Via Fatebenefratelli      6.2   \n",
              "1  2018-01-01T00:00:00Z        681                        Moggio      1.4   \n",
              "2  2018-01-01T00:00:00Z        703                  Schivenoglia      NaN   \n",
              "3  2018-01-02T00:00:00Z        677  Cremona Via Fatebenefratelli      1.8   \n",
              "4  2018-01-02T00:00:00Z        681                        Moggio      1.0   \n",
              "\n",
              "   Arsenic  Benzene  Benzo_a_pyrene  Cadmium        CO  Lead  ...  \\\n",
              "0      NaN      NaN             NaN      NaN  0.508333   NaN  ...   \n",
              "1      NaN      NaN             NaN      NaN       NaN   NaN  ...   \n",
              "2      NaN      1.0             NaN      NaN  1.159091   NaN  ...   \n",
              "3      NaN      NaN             NaN      NaN  0.375000   NaN  ...   \n",
              "4      NaN      NaN             NaN      NaN       NaN   NaN  ...   \n",
              "\n",
              "   IDStation.2                 NameStation.1  Wind_speed  Wind_direction  \\\n",
              "0          677  Cremona Via Fatebenefratelli    0.483454           314.0   \n",
              "1          111     Cassina Valsassina Moggio    0.300970            65.0   \n",
              "2          671             Mantova Tridolino    1.540787           288.0   \n",
              "3          677  Cremona Via Fatebenefratelli    1.788399           284.0   \n",
              "4          111     Cassina Valsassina Moggio    0.613183             9.0   \n",
              "\n",
              "   Temperature  Relative_humidity  Global_radiation  Wind_speed_max  \\\n",
              "0     2.615278          93.738194         21.268056        2.133333   \n",
              "1     2.095833          74.055556         60.152778        1.939583   \n",
              "2     2.761806          99.475694         14.163194        3.524306   \n",
              "3     5.974306          70.609722         72.734028        4.377083   \n",
              "4     1.670139          39.194444         68.250000        3.075000   \n",
              "\n",
              "   Wind_direction_max  Rainfall  \n",
              "0                 NaN       7.2  \n",
              "1               144.0       2.4  \n",
              "2                 NaN       5.8  \n",
              "3                 NaN       0.0  \n",
              "4               213.0       0.0  \n",
              "\n",
              "[5 rows x 31 columns]"
            ]
          },
          "execution_count": 2,
          "metadata": {},
          "output_type": "execute_result"
        }
      ],
      "source": [
        "table = read_csv('/Users/marcovinciguerra/Github/GitTesi/Python/NNdata.csv')\n",
        "table.head()"
      ]
    },
    {
      "cell_type": "code",
      "execution_count": 3,
      "metadata": {
        "colab": {
          "base_uri": "https://localhost:8080/",
          "height": 204
        },
        "id": "ApNM1Dpm0ai-",
        "outputId": "b1d9c50b-ee3f-43f0-89d5-8406d385bc8b"
      },
      "outputs": [
        {
          "data": {
            "text/html": [
              "<div>\n",
              "<style scoped>\n",
              "    .dataframe tbody tr th:only-of-type {\n",
              "        vertical-align: middle;\n",
              "    }\n",
              "\n",
              "    .dataframe tbody tr th {\n",
              "        vertical-align: top;\n",
              "    }\n",
              "\n",
              "    .dataframe thead th {\n",
              "        text-align: right;\n",
              "    }\n",
              "</style>\n",
              "<table border=\"1\" class=\"dataframe\">\n",
              "  <thead>\n",
              "    <tr style=\"text-align: right;\">\n",
              "      <th></th>\n",
              "      <th>index</th>\n",
              "      <th>Date</th>\n",
              "      <th>Ammonia</th>\n",
              "      <th>PM10</th>\n",
              "      <th>PM25</th>\n",
              "      <th>Wind_speed</th>\n",
              "      <th>Wind_direction</th>\n",
              "      <th>Temperature</th>\n",
              "      <th>Rainfall</th>\n",
              "    </tr>\n",
              "  </thead>\n",
              "  <tbody>\n",
              "    <tr>\n",
              "      <th>0</th>\n",
              "      <td>1</td>\n",
              "      <td>2018-01-01T00:00:00Z</td>\n",
              "      <td>1.4</td>\n",
              "      <td>5.0</td>\n",
              "      <td>4.0</td>\n",
              "      <td>0.300970</td>\n",
              "      <td>65.0</td>\n",
              "      <td>2.095833</td>\n",
              "      <td>2.4</td>\n",
              "    </tr>\n",
              "    <tr>\n",
              "      <th>1</th>\n",
              "      <td>4</td>\n",
              "      <td>2018-01-02T00:00:00Z</td>\n",
              "      <td>1.0</td>\n",
              "      <td>3.0</td>\n",
              "      <td>2.0</td>\n",
              "      <td>0.613183</td>\n",
              "      <td>9.0</td>\n",
              "      <td>1.670139</td>\n",
              "      <td>0.0</td>\n",
              "    </tr>\n",
              "    <tr>\n",
              "      <th>2</th>\n",
              "      <td>7</td>\n",
              "      <td>2018-01-03T00:00:00Z</td>\n",
              "      <td>1.0</td>\n",
              "      <td>5.0</td>\n",
              "      <td>5.0</td>\n",
              "      <td>0.539172</td>\n",
              "      <td>28.0</td>\n",
              "      <td>1.972222</td>\n",
              "      <td>0.6</td>\n",
              "    </tr>\n",
              "    <tr>\n",
              "      <th>3</th>\n",
              "      <td>10</td>\n",
              "      <td>2018-01-04T00:00:00Z</td>\n",
              "      <td>1.4</td>\n",
              "      <td>6.0</td>\n",
              "      <td>3.0</td>\n",
              "      <td>0.211450</td>\n",
              "      <td>21.0</td>\n",
              "      <td>3.081250</td>\n",
              "      <td>0.0</td>\n",
              "    </tr>\n",
              "    <tr>\n",
              "      <th>4</th>\n",
              "      <td>13</td>\n",
              "      <td>2018-01-05T00:00:00Z</td>\n",
              "      <td>1.7</td>\n",
              "      <td>7.0</td>\n",
              "      <td>8.0</td>\n",
              "      <td>0.116953</td>\n",
              "      <td>87.0</td>\n",
              "      <td>3.653472</td>\n",
              "      <td>0.0</td>\n",
              "    </tr>\n",
              "  </tbody>\n",
              "</table>\n",
              "</div>"
            ],
            "text/plain": [
              "   index                  Date  Ammonia  PM10  PM25  Wind_speed  \\\n",
              "0      1  2018-01-01T00:00:00Z      1.4   5.0   4.0    0.300970   \n",
              "1      4  2018-01-02T00:00:00Z      1.0   3.0   2.0    0.613183   \n",
              "2      7  2018-01-03T00:00:00Z      1.0   5.0   5.0    0.539172   \n",
              "3     10  2018-01-04T00:00:00Z      1.4   6.0   3.0    0.211450   \n",
              "4     13  2018-01-05T00:00:00Z      1.7   7.0   8.0    0.116953   \n",
              "\n",
              "   Wind_direction  Temperature  Rainfall  \n",
              "0            65.0     2.095833       2.4  \n",
              "1             9.0     1.670139       0.0  \n",
              "2            28.0     1.972222       0.6  \n",
              "3            21.0     3.081250       0.0  \n",
              "4            87.0     3.653472       0.0  "
            ]
          },
          "execution_count": 3,
          "metadata": {},
          "output_type": "execute_result"
        }
      ],
      "source": [
        "Moggio = table.loc[table.loc[:,\"NameStation\"]==\"Moggio\",:]\n",
        "Moggio = Moggio.loc[:,[\"Date\",\"Ammonia\",\"PM10\",\"PM25\",\"Wind_speed\",\"Wind_direction\",\"Temperature\",\"Rainfall\"]]\n",
        "Moggio = Moggio.dropna(how=\"any\")\n",
        "Moggio = Moggio.reset_index()\n",
        "Moggio = Moggio.iloc[:730,:] # we train not using 2020, for now\n",
        "Moggio.head()\n"
      ]
    },
    {
      "cell_type": "markdown",
      "metadata": {
        "id": "6wXsLnh_1JbF"
      },
      "source": [
        "##Convert series to supervised learning\n",
        "### Activation function = tanh and logistic (s curve)"
      ]
    },
    {
      "cell_type": "markdown",
      "metadata": {
        "id": "24Av99KQ1UEW"
      },
      "source": [
        "###Conversion Function"
      ]
    },
    {
      "cell_type": "code",
      "execution_count": 7,
      "metadata": {
        "id": "zb-KlY4Q0amR"
      },
      "outputs": [],
      "source": [
        "from pandas import DataFrame\n",
        "from pandas import concat\n",
        " \n",
        "def series_to_supervised(data, n_in=1, n_out=1, dropnan=True):\n",
        "\t\"\"\"\n",
        "\tFrame a time series as a supervised learning dataset.\n",
        "\tArguments:\n",
        "\t\tdata: Sequence of observations as a list or NumPy array.\n",
        "\t\tn_in: Number of lag observations as input (X).\n",
        "\t\tn_out: Number of observations as output (y).\n",
        "\t\tdropnan: Boolean whether or not to drop rows with NaN values.\n",
        "\tReturns:\n",
        "\t\tPandas DataFrame of series framed for supervised learning.\n",
        "\t\"\"\"\n",
        "\tn_vars = 1 if type(data) is list else data.shape[1]\n",
        "\tdf = DataFrame(data)\n",
        "\tcols, names = list(), list()\n",
        "\t# input sequence (t-n, ... t-1)\n",
        "\tfor i in range(n_in, 0, -1):\n",
        "\t\tcols.append(df.shift(i))\n",
        "\t\tnames += [('var%d(t-%d)' % (j+1, i)) for j in range(n_vars)]\n",
        "\t# forecast sequence (t, t+1, ... t+n)\n",
        "\tfor i in range(0, n_out):\n",
        "\t\tcols.append(df.shift(-i))\n",
        "\t\tif i == 0:\n",
        "\t\t\tnames += [('var%d(t)' % (j+1)) for j in range(n_vars)]\n",
        "\t\telse:\n",
        "\t\t\tnames += [('var%d(t+%d)' % (j+1, i)) for j in range(n_vars)]\n",
        "\t# put it all together\n",
        "\tagg = concat(cols, axis=1)\n",
        "\tagg.columns = names\n",
        "\t# drop rows with NaN values\n",
        "\tif dropnan:\n",
        "\t\tagg.dropna(inplace=True)\n",
        "\treturn agg"
      ]
    },
    {
      "cell_type": "markdown",
      "metadata": {
        "id": "q0zHE-3h1vGz"
      },
      "source": [
        "### Conversion of Moggio"
      ]
    },
    {
      "cell_type": "code",
      "execution_count": 8,
      "metadata": {
        "colab": {
          "base_uri": "https://localhost:8080/",
          "height": 241
        },
        "id": "IwL5Zn9j11Ce",
        "outputId": "f9662d91-144c-4723-dee2-089c944065de"
      },
      "outputs": [
        {
          "data": {
            "text/html": [
              "<div>\n",
              "<style scoped>\n",
              "    .dataframe tbody tr th:only-of-type {\n",
              "        vertical-align: middle;\n",
              "    }\n",
              "\n",
              "    .dataframe tbody tr th {\n",
              "        vertical-align: top;\n",
              "    }\n",
              "\n",
              "    .dataframe thead th {\n",
              "        text-align: right;\n",
              "    }\n",
              "</style>\n",
              "<table border=\"1\" class=\"dataframe\">\n",
              "  <thead>\n",
              "    <tr style=\"text-align: right;\">\n",
              "      <th></th>\n",
              "      <th>var1(t-5)</th>\n",
              "      <th>var2(t-5)</th>\n",
              "      <th>var3(t-5)</th>\n",
              "      <th>var4(t-5)</th>\n",
              "      <th>var5(t-5)</th>\n",
              "      <th>var6(t-5)</th>\n",
              "      <th>var7(t-5)</th>\n",
              "      <th>var1(t-4)</th>\n",
              "      <th>var2(t-4)</th>\n",
              "      <th>var3(t-4)</th>\n",
              "      <th>...</th>\n",
              "      <th>var6(t-2)</th>\n",
              "      <th>var7(t-2)</th>\n",
              "      <th>var1(t-1)</th>\n",
              "      <th>var2(t-1)</th>\n",
              "      <th>var3(t-1)</th>\n",
              "      <th>var4(t-1)</th>\n",
              "      <th>var5(t-1)</th>\n",
              "      <th>var6(t-1)</th>\n",
              "      <th>var7(t-1)</th>\n",
              "      <th>var1(t)</th>\n",
              "    </tr>\n",
              "  </thead>\n",
              "  <tbody>\n",
              "    <tr>\n",
              "      <th>5</th>\n",
              "      <td>0.069307</td>\n",
              "      <td>0.081967</td>\n",
              "      <td>0.088889</td>\n",
              "      <td>0.107422</td>\n",
              "      <td>0.180556</td>\n",
              "      <td>0.349921</td>\n",
              "      <td>0.024540</td>\n",
              "      <td>0.049505</td>\n",
              "      <td>0.049180</td>\n",
              "      <td>0.044444</td>\n",
              "      <td>...</td>\n",
              "      <td>0.375686</td>\n",
              "      <td>0.000000</td>\n",
              "      <td>0.084158</td>\n",
              "      <td>0.114754</td>\n",
              "      <td>0.177778</td>\n",
              "      <td>0.038250</td>\n",
              "      <td>0.241667</td>\n",
              "      <td>0.390648</td>\n",
              "      <td>0.000000</td>\n",
              "      <td>0.094059</td>\n",
              "    </tr>\n",
              "    <tr>\n",
              "      <th>6</th>\n",
              "      <td>0.049505</td>\n",
              "      <td>0.049180</td>\n",
              "      <td>0.044444</td>\n",
              "      <td>0.224783</td>\n",
              "      <td>0.025000</td>\n",
              "      <td>0.338791</td>\n",
              "      <td>0.000000</td>\n",
              "      <td>0.049505</td>\n",
              "      <td>0.081967</td>\n",
              "      <td>0.111111</td>\n",
              "      <td>...</td>\n",
              "      <td>0.390648</td>\n",
              "      <td>0.000000</td>\n",
              "      <td>0.094059</td>\n",
              "      <td>0.098361</td>\n",
              "      <td>0.155556</td>\n",
              "      <td>0.476069</td>\n",
              "      <td>0.361111</td>\n",
              "      <td>0.403358</td>\n",
              "      <td>0.100204</td>\n",
              "      <td>0.094059</td>\n",
              "    </tr>\n",
              "    <tr>\n",
              "      <th>7</th>\n",
              "      <td>0.049505</td>\n",
              "      <td>0.081967</td>\n",
              "      <td>0.111111</td>\n",
              "      <td>0.196962</td>\n",
              "      <td>0.077778</td>\n",
              "      <td>0.346689</td>\n",
              "      <td>0.006135</td>\n",
              "      <td>0.069307</td>\n",
              "      <td>0.098361</td>\n",
              "      <td>0.066667</td>\n",
              "      <td>...</td>\n",
              "      <td>0.403358</td>\n",
              "      <td>0.100204</td>\n",
              "      <td>0.094059</td>\n",
              "      <td>0.163934</td>\n",
              "      <td>0.177778</td>\n",
              "      <td>0.765240</td>\n",
              "      <td>0.597222</td>\n",
              "      <td>0.433662</td>\n",
              "      <td>0.012270</td>\n",
              "      <td>0.084158</td>\n",
              "    </tr>\n",
              "    <tr>\n",
              "      <th>8</th>\n",
              "      <td>0.069307</td>\n",
              "      <td>0.098361</td>\n",
              "      <td>0.066667</td>\n",
              "      <td>0.073772</td>\n",
              "      <td>0.058333</td>\n",
              "      <td>0.375686</td>\n",
              "      <td>0.000000</td>\n",
              "      <td>0.084158</td>\n",
              "      <td>0.114754</td>\n",
              "      <td>0.177778</td>\n",
              "      <td>...</td>\n",
              "      <td>0.433662</td>\n",
              "      <td>0.012270</td>\n",
              "      <td>0.084158</td>\n",
              "      <td>0.180328</td>\n",
              "      <td>0.155556</td>\n",
              "      <td>0.927869</td>\n",
              "      <td>0.602778</td>\n",
              "      <td>0.459754</td>\n",
              "      <td>0.000000</td>\n",
              "      <td>0.084158</td>\n",
              "    </tr>\n",
              "    <tr>\n",
              "      <th>9</th>\n",
              "      <td>0.084158</td>\n",
              "      <td>0.114754</td>\n",
              "      <td>0.177778</td>\n",
              "      <td>0.038250</td>\n",
              "      <td>0.241667</td>\n",
              "      <td>0.390648</td>\n",
              "      <td>0.000000</td>\n",
              "      <td>0.094059</td>\n",
              "      <td>0.098361</td>\n",
              "      <td>0.155556</td>\n",
              "      <td>...</td>\n",
              "      <td>0.459754</td>\n",
              "      <td>0.000000</td>\n",
              "      <td>0.084158</td>\n",
              "      <td>0.245902</td>\n",
              "      <td>0.133333</td>\n",
              "      <td>0.596370</td>\n",
              "      <td>0.783333</td>\n",
              "      <td>0.391011</td>\n",
              "      <td>0.329243</td>\n",
              "      <td>0.074257</td>\n",
              "    </tr>\n",
              "  </tbody>\n",
              "</table>\n",
              "<p>5 rows × 36 columns</p>\n",
              "</div>"
            ],
            "text/plain": [
              "   var1(t-5)  var2(t-5)  var3(t-5)  var4(t-5)  var5(t-5)  var6(t-5)  \\\n",
              "5   0.069307   0.081967   0.088889   0.107422   0.180556   0.349921   \n",
              "6   0.049505   0.049180   0.044444   0.224783   0.025000   0.338791   \n",
              "7   0.049505   0.081967   0.111111   0.196962   0.077778   0.346689   \n",
              "8   0.069307   0.098361   0.066667   0.073772   0.058333   0.375686   \n",
              "9   0.084158   0.114754   0.177778   0.038250   0.241667   0.390648   \n",
              "\n",
              "   var7(t-5)  var1(t-4)  var2(t-4)  var3(t-4)  ...  var6(t-2)  var7(t-2)  \\\n",
              "5   0.024540   0.049505   0.049180   0.044444  ...   0.375686   0.000000   \n",
              "6   0.000000   0.049505   0.081967   0.111111  ...   0.390648   0.000000   \n",
              "7   0.006135   0.069307   0.098361   0.066667  ...   0.403358   0.100204   \n",
              "8   0.000000   0.084158   0.114754   0.177778  ...   0.433662   0.012270   \n",
              "9   0.000000   0.094059   0.098361   0.155556  ...   0.459754   0.000000   \n",
              "\n",
              "   var1(t-1)  var2(t-1)  var3(t-1)  var4(t-1)  var5(t-1)  var6(t-1)  \\\n",
              "5   0.084158   0.114754   0.177778   0.038250   0.241667   0.390648   \n",
              "6   0.094059   0.098361   0.155556   0.476069   0.361111   0.403358   \n",
              "7   0.094059   0.163934   0.177778   0.765240   0.597222   0.433662   \n",
              "8   0.084158   0.180328   0.155556   0.927869   0.602778   0.459754   \n",
              "9   0.084158   0.245902   0.133333   0.596370   0.783333   0.391011   \n",
              "\n",
              "   var7(t-1)   var1(t)  \n",
              "5   0.000000  0.094059  \n",
              "6   0.100204  0.094059  \n",
              "7   0.012270  0.084158  \n",
              "8   0.000000  0.084158  \n",
              "9   0.329243  0.074257  \n",
              "\n",
              "[5 rows x 36 columns]"
            ]
          },
          "execution_count": 8,
          "metadata": {},
          "output_type": "execute_result"
        }
      ],
      "source": [
        "values = Moggio.iloc[:,2:].values\n",
        "# ensure all data is float\n",
        "values = values.astype('float32') #cast in float 32 bit per evitare problemi\n",
        "# normalize features\n",
        "scaler = MinMaxScaler(feature_range=(0, 1))\n",
        "scaled = scaler.fit_transform(values)\n",
        "# frame as supervised learning\n",
        "n_days = 5 #Memoria della NN\n",
        "reframed = series_to_supervised(scaled, n_days, 1) # info of the past 5 days to determine next (1) day\n",
        "# drop columns we don't want to predict (we therefore keep Ammonia)\n",
        "reframed.drop(reframed.columns[[36,37,38,39,40,41]], axis=1, inplace=True)\n",
        "\n",
        "reframed.head()"
      ]
    },
    {
      "cell_type": "code",
      "execution_count": 9,
      "metadata": {
        "colab": {
          "base_uri": "https://localhost:8080/"
        },
        "id": "b6Mx9MPBARpb",
        "outputId": "a984506d-0e45-4407-9d77-304f604a4c78"
      },
      "outputs": [
        {
          "name": "stdout",
          "output_type": "stream",
          "text": [
            "(365, 35) 365 (365,)\n",
            "(365, 5, 7) (365,) (360, 5, 7) (360,)\n"
          ]
        }
      ],
      "source": [
        "# split into train and test sets\n",
        "#2018 train\n",
        "#2019 test\n",
        "values = reframed.values\n",
        "n_features = 7 # number of variables, including the one to be predicted\n",
        "n_train_days = 365 # we train using only the first year\n",
        "train = values[:n_train_days, :]\n",
        "test = values[n_train_days:, :] # we test using all successive years \n",
        "# split into input and outputs\n",
        "n_obs = n_days * n_features\n",
        "train_X, train_y = train[:, :n_obs], train[:, -1]\n",
        "test_X, test_y = test[:, :n_obs], test[:, -1]\n",
        "print(train_X.shape, len(train_X), train_y.shape)\n",
        "# reshape input to be 3D [samples, timesteps, features]\n",
        "# reshape from 2D to 3D\n",
        "train_X = train_X.reshape((train_X.shape[0], n_days, n_features))\n",
        "test_X = test_X.reshape((test_X.shape[0], n_days, n_features))\n",
        "print(train_X.shape, train_y.shape, test_X.shape, test_y.shape)"
      ]
    },
    {
      "cell_type": "markdown",
      "metadata": {
        "id": "NKLpWbJH7Kmj"
      },
      "source": [
        "# Modeling and training"
      ]
    },
    {
      "cell_type": "code",
      "execution_count": 10,
      "metadata": {
        "colab": {
          "base_uri": "https://localhost:8080/",
          "height": 1000
        },
        "id": "Ggc63fyoD9MG",
        "outputId": "5ff3b7b5-55a4-494d-9987-45031f3d7408"
      },
      "outputs": [
        {
          "name": "stderr",
          "output_type": "stream",
          "text": [
            "2021-11-15 15:06:24.902803: I tensorflow/core/common_runtime/pluggable_device/pluggable_device_factory.cc:305] Could not identify NUMA node of platform GPU ID 0, defaulting to 0. Your kernel may not have been built with NUMA support.\n",
            "2021-11-15 15:06:24.903423: I tensorflow/core/common_runtime/pluggable_device/pluggable_device_factory.cc:271] Created TensorFlow device (/job:localhost/replica:0/task:0/device:GPU:0 with 0 MB memory) -> physical PluggableDevice (device: 0, name: METAL, pci bus id: <undefined>)\n"
          ]
        },
        {
          "name": "stdout",
          "output_type": "stream",
          "text": [
            "Metal device set to: Apple M1 Pro\n",
            "\n",
            "systemMemory: 16.00 GB\n",
            "maxCacheSize: 5.33 GB\n",
            "\n"
          ]
        },
        {
          "name": "stderr",
          "output_type": "stream",
          "text": [
            "2021-11-15 15:06:25.658111: I tensorflow/compiler/mlir/mlir_graph_optimization_pass.cc:185] None of the MLIR Optimization Passes are enabled (registered 2)\n",
            "2021-11-15 15:06:25.660255: W tensorflow/core/platform/profile_utils/cpu_utils.cc:128] Failed to get CPU frequency: 0 Hz\n"
          ]
        },
        {
          "name": "stdout",
          "output_type": "stream",
          "text": [
            "Epoch 1/1000\n"
          ]
        },
        {
          "name": "stderr",
          "output_type": "stream",
          "text": [
            "2021-11-15 15:06:26.618937: I tensorflow/core/grappler/optimizers/custom_graph_optimizer_registry.cc:112] Plugin optimizer for device_type GPU is enabled.\n",
            "2021-11-15 15:06:26.812848: I tensorflow/core/grappler/optimizers/custom_graph_optimizer_registry.cc:112] Plugin optimizer for device_type GPU is enabled.\n",
            "2021-11-15 15:06:27.479208: I tensorflow/core/grappler/optimizers/custom_graph_optimizer_registry.cc:112] Plugin optimizer for device_type GPU is enabled.\n",
            "2021-11-15 15:06:27.506575: I tensorflow/core/grappler/optimizers/custom_graph_optimizer_registry.cc:112] Plugin optimizer for device_type GPU is enabled.\n",
            "2021-11-15 15:06:28.407591: I tensorflow/core/grappler/optimizers/custom_graph_optimizer_registry.cc:112] Plugin optimizer for device_type GPU is enabled.\n",
            "2021-11-15 15:06:29.478891: I tensorflow/core/grappler/optimizers/custom_graph_optimizer_registry.cc:112] Plugin optimizer for device_type GPU is enabled.\n",
            "2021-11-15 15:06:29.627014: I tensorflow/core/grappler/optimizers/custom_graph_optimizer_registry.cc:112] Plugin optimizer for device_type GPU is enabled.\n"
          ]
        },
        {
          "name": "stdout",
          "output_type": "stream",
          "text": [
            "6/6 - 5s - loss: 0.2091 - val_loss: 0.1725\n"
          ]
        },
        {
          "name": "stderr",
          "output_type": "stream",
          "text": [
            "2021-11-15 15:06:30.554972: I tensorflow/core/grappler/optimizers/custom_graph_optimizer_registry.cc:112] Plugin optimizer for device_type GPU is enabled.\n",
            "2021-11-15 15:06:30.603391: I tensorflow/core/grappler/optimizers/custom_graph_optimizer_registry.cc:112] Plugin optimizer for device_type GPU is enabled.\n",
            "2021-11-15 15:06:30.625931: I tensorflow/core/grappler/optimizers/custom_graph_optimizer_registry.cc:112] Plugin optimizer for device_type GPU is enabled.\n",
            "2021-11-15 15:06:30.648238: I tensorflow/core/grappler/optimizers/custom_graph_optimizer_registry.cc:112] Plugin optimizer for device_type GPU is enabled.\n"
          ]
        },
        {
          "name": "stdout",
          "output_type": "stream",
          "text": [
            "Epoch 2/1000\n",
            "6/6 - 0s - loss: 0.1580 - val_loss: 0.1524\n",
            "Epoch 3/1000\n",
            "6/6 - 0s - loss: 0.1232 - val_loss: 0.1412\n",
            "Epoch 4/1000\n",
            "6/6 - 0s - loss: 0.1051 - val_loss: 0.1364\n",
            "Epoch 5/1000\n",
            "6/6 - 0s - loss: 0.0995 - val_loss: 0.1308\n",
            "Epoch 6/1000\n",
            "6/6 - 0s - loss: 0.0979 - val_loss: 0.1251\n",
            "Epoch 7/1000\n",
            "6/6 - 0s - loss: 0.0975 - val_loss: 0.1177\n",
            "Epoch 8/1000\n",
            "6/6 - 0s - loss: 0.0914 - val_loss: 0.1109\n",
            "Epoch 9/1000\n",
            "6/6 - 0s - loss: 0.0854 - val_loss: 0.1044\n",
            "Epoch 10/1000\n",
            "6/6 - 0s - loss: 0.0857 - val_loss: 0.1016\n",
            "Epoch 11/1000\n",
            "6/6 - 0s - loss: 0.0829 - val_loss: 0.0998\n",
            "Epoch 12/1000\n",
            "6/6 - 0s - loss: 0.0842 - val_loss: 0.0994\n",
            "Epoch 13/1000\n",
            "6/6 - 0s - loss: 0.0843 - val_loss: 0.0988\n",
            "Epoch 14/1000\n",
            "6/6 - 0s - loss: 0.0845 - val_loss: 0.0966\n",
            "Epoch 15/1000\n",
            "6/6 - 0s - loss: 0.0817 - val_loss: 0.0951\n",
            "Epoch 16/1000\n",
            "6/6 - 0s - loss: 0.0781 - val_loss: 0.1014\n",
            "Epoch 17/1000\n",
            "6/6 - 0s - loss: 0.0820 - val_loss: 0.2083\n",
            "Epoch 18/1000\n",
            "6/6 - 0s - loss: 0.1879 - val_loss: 0.2072\n",
            "Epoch 19/1000\n",
            "6/6 - 0s - loss: 0.1103 - val_loss: 0.2201\n",
            "Epoch 20/1000\n",
            "6/6 - 0s - loss: 0.1902 - val_loss: 0.1841\n",
            "Epoch 21/1000\n",
            "6/6 - 0s - loss: 0.1060 - val_loss: 0.2337\n",
            "Epoch 22/1000\n",
            "6/6 - 0s - loss: 0.2550 - val_loss: 0.1225\n",
            "Epoch 23/1000\n",
            "6/6 - 0s - loss: 0.1156 - val_loss: 0.1303\n",
            "Epoch 24/1000\n",
            "6/6 - 0s - loss: 0.1038 - val_loss: 0.1325\n",
            "Epoch 25/1000\n",
            "6/6 - 0s - loss: 0.1255 - val_loss: 0.1472\n"
          ]
        },
        {
          "data": {
            "image/png": "[encoded data removed]",
            "text/plain": [
              "<Figure size 432x288 with 1 Axes>"
            ]
          },
          "metadata": {
            "needs_background": "light"
          },
          "output_type": "display_data"
        }
      ],
      "source": [
        "# design the neural network\n",
        "model = Sequential()\n",
        "model.add(LSTM(50, return_sequences=True, input_shape=(train_X.shape[1], train_X.shape[2])))\n",
        "model.add(LSTM(50, return_sequences=True))\n",
        "model.add(LSTM(50, return_sequences=False))\n",
        "model.add(Dense(1))\n",
        "model.compile(loss='mae', optimizer='adam')\n",
        "# fit network\n",
        "early_stopping = EarlyStopping(patience=10, restore_best_weights = True)\n",
        "history = model.fit(train_X, train_y, epochs=1000, batch_size=72, validation_data=(test_X, test_y), verbose=2, shuffle=False, callbacks=early_stopping)\n",
        "# plot history\n",
        "pyplot.plot(history.history['loss'], label='train')\n",
        "pyplot.plot(history.history['val_loss'], label='test')\n",
        "pyplot.legend()\n",
        "pyplot.show()"
      ]
    },
    {
      "cell_type": "markdown",
      "metadata": {
        "id": "DetuxaYg7V9x"
      },
      "source": [
        "## Predictions of the year 2019"
      ]
    },
    {
      "cell_type": "code",
      "execution_count": null,
      "metadata": {
        "colab": {
          "base_uri": "https://localhost:8080/"
        },
        "id": "TUI-z2ULSR2T",
        "outputId": "1384aabe-1615-4ec1-d8b0-146ace693eb6"
      },
      "outputs": [
        {
          "name": "stdout",
          "output_type": "stream",
          "text": [
            "Test RMSE: 2.185\n"
          ]
        }
      ],
      "source": [
        "# make a prediction\n",
        "yhat = model.predict(test_X)\n",
        "#Convert from 3D to 2D\n",
        "test_X = test_X.reshape((test_X.shape[0], n_days*n_features))\n",
        "# invert scaling for forecast\n",
        "inv_yhat = concatenate((yhat, test_X[:, -6:]), axis=1)\n",
        "inv_yhat = scaler.inverse_transform(inv_yhat)\n",
        "inv_yhat = inv_yhat[:,0]\n",
        "# invert scaling for actual\n",
        "test_y = test_y.reshape((len(test_y), 1))\n",
        "inv_y = concatenate((test_y, test_X[:, -6:]), axis=1)\n",
        "inv_y = scaler.inverse_transform(inv_y)\n",
        "inv_y = inv_y[:,0]\n",
        "# calculate RMSE\n",
        "rmse = sqrt(mean_squared_error(inv_y, inv_yhat))\n",
        "print('Test RMSE: %.3f' % rmse)"
      ]
    },
    {
      "cell_type": "markdown",
      "metadata": {
        "id": "PhNcUjYz7Z5J"
      },
      "source": [
        "#### Prediciton plots"
      ]
    },
    {
      "cell_type": "code",
      "execution_count": null,
      "metadata": {
        "colab": {
          "base_uri": "https://localhost:8080/",
          "height": 265
        },
        "id": "xgvSi2LHmWWP",
        "outputId": "152462da-e9ae-4414-e7e2-cac81a264874"
      },
      "outputs": [
        {
          "data": {
            "image/png": "[encoded data removed]",
            "text/plain": [
              "<Figure size 432x288 with 1 Axes>"
            ]
          },
          "metadata": {
            "needs_background": "light"
          },
          "output_type": "display_data"
        }
      ],
      "source": [
        "pyplot.plot(inv_yhat, label = 'Prediction')\n",
        "pyplot.plot(inv_y, label = 'Real')\n",
        "pyplot.legend()\n",
        "pyplot.show()"
      ]
    },
    {
      "cell_type": "markdown",
      "metadata": {
        "id": "3Q0ykqpFDURq"
      },
      "source": [
        "# Modeling with hyperparamenter search\n",
        "# Goal: reduce the MSE without overfitting"
      ]
    },
    {
      "cell_type": "code",
      "execution_count": null,
      "metadata": {
        "colab": {
          "base_uri": "https://localhost:8080/"
        },
        "id": "mDxlDo3dDfWx",
        "outputId": "3d265dde-ca0d-46a4-f7eb-4296b1f0eea7"
      },
      "outputs": [
        {
          "name": "stdout",
          "output_type": "stream",
          "text": [
            "\u001b[?25l\r\u001b[K     |███▍                            | 10 kB 17.7 MB/s eta 0:00:01\r\u001b[K     |██████▊                         | 20 kB 14.0 MB/s eta 0:00:01\r\u001b[K     |██████████                      | 30 kB 10.1 MB/s eta 0:00:01\r\u001b[K     |█████████████▍                  | 40 kB 8.8 MB/s eta 0:00:01\r\u001b[K     |████████████████▊               | 51 kB 4.5 MB/s eta 0:00:01\r\u001b[K     |████████████████████            | 61 kB 4.7 MB/s eta 0:00:01\r\u001b[K     |███████████████████████▍        | 71 kB 4.8 MB/s eta 0:00:01\r\u001b[K     |██████████████████████████▊     | 81 kB 5.3 MB/s eta 0:00:01\r\u001b[K     |██████████████████████████████  | 92 kB 5.4 MB/s eta 0:00:01\r\u001b[K     |████████████████████████████████| 98 kB 3.2 MB/s \n",
            "\u001b[?25h"
          ]
        }
      ],
      "source": [
        "!pip install -q -U keras-tuner"
      ]
    },
    {
      "cell_type": "code",
      "execution_count": null,
      "metadata": {
        "id": "a_ykkd6DDYms"
      },
      "outputs": [],
      "source": [
        "import tensorflow as tf\n",
        "from tensorflow import keras\n",
        "import keras_tuner as kt #Keras Creates a better model"
      ]
    },
    {
      "cell_type": "code",
      "execution_count": null,
      "metadata": {
        "colab": {
          "base_uri": "https://localhost:8080/"
        },
        "id": "KqJaEiI8OiX2",
        "outputId": "d04bbc7f-743f-4ea7-9f54-3b2f88ae232a"
      },
      "outputs": [
        {
          "data": {
            "text/plain": [
              "[]"
            ]
          },
          "execution_count": 14,
          "metadata": {},
          "output_type": "execute_result"
        }
      ],
      "source": [
        "tf.config.list_physical_devices('GPU') #To undestand which GPU using during the training"
      ]
    },
    {
      "cell_type": "markdown",
      "metadata": {
        "id": "ox9NSvBjTSGK"
      },
      "source": [
        "## Function to create new models"
      ]
    },
    {
      "cell_type": "code",
      "execution_count": null,
      "metadata": {
        "id": "YaRj2wPcDp6h"
      },
      "outputs": [],
      "source": [
        "def model_builder(hp):\n",
        "  #design network\n",
        "  #object created with keras_tuner -> iterates some parameters to create the model\n",
        "  #units = neurons we use 32 steps for each time\n",
        "  hp_units = hp.Int('units', min_value=32, max_value=512, step=32)\n",
        "  #Initialization of the model\n",
        "  model = Sequential() \n",
        "  model.add(LSTM(units = hp_units,return_sequences=True, input_shape=(train_X.shape[1], train_X.shape[2])))\n",
        "  #for loop to iterate different quantities of layer (from 1 to 3 layer)\n",
        "  for i in range(hp.Int('layers',1,3)):\n",
        "   model.add(LSTM(units = hp_units, return_sequences=True))\n",
        "  model.add(LSTM(units = hp_units, return_sequences=False))\n",
        "  model.add(Dense(1))\n",
        "  #Choose from a list of given instructions -> we choose leanrning rates\n",
        "  #We look the performances\n",
        "  hp_learning_rate = hp.Choice('learning_rate', values=[1e-2, 1e-3, 1e-4])\n",
        "  model.compile(loss='mae', optimizer=keras.optimizers.Adam(learning_rate=hp_learning_rate))\n",
        "  return model"
      ]
    },
    {
      "cell_type": "markdown",
      "metadata": {
        "id": "I2RMikpiXGcy"
      },
      "source": [
        "# Creation of the object with model_builder(hp)\n",
        "## Parameter to look at: validation loss"
      ]
    },
    {
      "cell_type": "code",
      "execution_count": null,
      "metadata": {
        "colab": {
          "base_uri": "https://localhost:8080/"
        },
        "id": "ZHv2TK6MGMF1",
        "outputId": "5178677c-8d65-430e-d989-27d0008d38a9"
      },
      "outputs": [
        {
          "name": "stdout",
          "output_type": "stream",
          "text": [
            "Search space summary\n",
            "Default search space size: 3\n",
            "units (Int)\n",
            "{'default': None, 'conditions': [], 'min_value': 32, 'max_value': 512, 'step': 32, 'sampling': None}\n",
            "layers (Int)\n",
            "{'default': None, 'conditions': [], 'min_value': 1, 'max_value': 3, 'step': 1, 'sampling': None}\n",
            "learning_rate (Choice)\n",
            "{'default': 0.01, 'conditions': [], 'values': [0.01, 0.001, 0.0001], 'ordered': True}\n"
          ]
        }
      ],
      "source": [
        "tuner = kt.RandomSearch(\n",
        "    model_builder,\n",
        "    objective='val_loss',\n",
        "    max_trials=10,\n",
        "    executions_per_trial =3,\n",
        "    directory = 'dir',\n",
        "    project_name = 'namee')\n",
        "tuner.search_space_summary()"
      ]
    },
    {
      "cell_type": "code",
      "execution_count": null,
      "metadata": {
        "colab": {
          "base_uri": "https://localhost:8080/"
        },
        "id": "M-Jjf4glG9h4",
        "outputId": "ee0d5b40-e6b2-4f4e-a83d-0049f1f3f52a"
      },
      "outputs": [
        {
          "name": "stdout",
          "output_type": "stream",
          "text": [
            "Trial 1 Complete [00h 06m 35s]\n",
            "val_loss: 0.09162339568138123\n",
            "\n",
            "Best val_loss So Far: 0.09162339568138123\n",
            "Total elapsed time: 00h 06m 35s\n",
            "\n",
            "Search: Running Trial #2\n",
            "\n",
            "Hyperparameter    |Value             |Best Value So Far \n",
            "units             |320               |192               \n",
            "layers            |2                 |3                 \n",
            "learning_rate     |0.0001            |0.0001            \n",
            "\n",
            "Epoch 1/100\n",
            "6/6 [==============================] - 10s 574ms/step - loss: 0.2149 - val_loss: 0.1930\n",
            "Epoch 2/100\n",
            "6/6 [==============================] - 2s 258ms/step - loss: 0.1919 - val_loss: 0.1780\n",
            "Epoch 3/100\n",
            "6/6 [==============================] - 2s 260ms/step - loss: 0.1688 - val_loss: 0.1649\n",
            "Epoch 4/100\n",
            "6/6 [==============================] - 1s 257ms/step - loss: 0.1454 - val_loss: 0.1530\n",
            "Epoch 5/100\n",
            "6/6 [==============================] - 1s 250ms/step - loss: 0.1232 - val_loss: 0.1438\n",
            "Epoch 6/100\n",
            "6/6 [==============================] - 1s 250ms/step - loss: 0.1079 - val_loss: 0.1403\n",
            "Epoch 7/100\n",
            "6/6 [==============================] - 1s 256ms/step - loss: 0.1020 - val_loss: 0.1365\n",
            "Epoch 8/100\n",
            "6/6 [==============================] - 1s 259ms/step - loss: 0.0992 - val_loss: 0.1325\n",
            "Epoch 9/100\n",
            "6/6 [==============================] - 1s 257ms/step - loss: 0.0985 - val_loss: 0.1283\n",
            "Epoch 10/100\n",
            "6/6 [==============================] - 1s 258ms/step - loss: 0.0967 - val_loss: 0.1229\n",
            "Epoch 11/100\n",
            "6/6 [==============================] - 2s 261ms/step - loss: 0.0923 - val_loss: 0.1172\n",
            "Epoch 12/100\n",
            "6/6 [==============================] - 2s 261ms/step - loss: 0.0876 - val_loss: 0.1118\n",
            "Epoch 13/100\n",
            "6/6 [==============================] - 2s 267ms/step - loss: 0.0850 - val_loss: 0.1068\n",
            "Epoch 14/100\n",
            "6/6 [==============================] - 2s 260ms/step - loss: 0.0833 - val_loss: 0.1035\n",
            "Epoch 15/100\n",
            "6/6 [==============================] - 2s 263ms/step - loss: 0.0830 - val_loss: 0.1025\n",
            "Epoch 16/100\n",
            "6/6 [==============================] - 2s 265ms/step - loss: 0.0825 - val_loss: 0.1022\n",
            "Epoch 17/100\n",
            "6/6 [==============================] - 2s 262ms/step - loss: 0.0821 - val_loss: 0.1017\n",
            "Epoch 18/100\n",
            "6/6 [==============================] - 2s 262ms/step - loss: 0.0812 - val_loss: 0.1011\n",
            "Epoch 19/100\n",
            "6/6 [==============================] - 2s 261ms/step - loss: 0.0801 - val_loss: 0.0999\n",
            "Epoch 20/100\n",
            "6/6 [==============================] - 1s 259ms/step - loss: 0.0797 - val_loss: 0.0992\n",
            "Epoch 21/100\n",
            "6/6 [==============================] - 2s 260ms/step - loss: 0.0794 - val_loss: 0.0989\n",
            "Epoch 22/100\n",
            "6/6 [==============================] - 2s 263ms/step - loss: 0.0785 - val_loss: 0.0980\n",
            "Epoch 23/100\n",
            "6/6 [==============================] - 2s 262ms/step - loss: 0.0780 - val_loss: 0.0973\n",
            "Epoch 24/100\n",
            "6/6 [==============================] - 1s 247ms/step - loss: 0.0774 - val_loss: 0.0974\n",
            "Epoch 25/100\n",
            "6/6 [==============================] - 2s 262ms/step - loss: 0.0768 - val_loss: 0.0959\n",
            "Epoch 26/100\n",
            "6/6 [==============================] - 2s 262ms/step - loss: 0.0767 - val_loss: 0.0954\n",
            "Epoch 27/100\n",
            "6/6 [==============================] - 1s 253ms/step - loss: 0.0765 - val_loss: 0.0964\n",
            "Epoch 28/100\n",
            "6/6 [==============================] - 2s 262ms/step - loss: 0.0747 - val_loss: 0.0945\n",
            "Epoch 29/100\n",
            "6/6 [==============================] - 1s 253ms/step - loss: 0.0752 - val_loss: 0.0951\n",
            "Epoch 30/100\n",
            "6/6 [==============================] - 2s 258ms/step - loss: 0.0742 - val_loss: 0.0938\n",
            "Epoch 31/100\n",
            "6/6 [==============================] - 2s 265ms/step - loss: 0.0742 - val_loss: 0.0934\n",
            "Epoch 32/100\n",
            "6/6 [==============================] - 1s 254ms/step - loss: 0.0740 - val_loss: 0.0935\n",
            "Epoch 33/100\n",
            "6/6 [==============================] - 2s 265ms/step - loss: 0.0735 - val_loss: 0.0931\n",
            "Epoch 34/100\n",
            "6/6 [==============================] - 2s 267ms/step - loss: 0.0739 - val_loss: 0.0926\n",
            "Epoch 35/100\n",
            "6/6 [==============================] - 2s 271ms/step - loss: 0.0736 - val_loss: 0.0924\n",
            "Epoch 36/100\n",
            "6/6 [==============================] - 2s 254ms/step - loss: 0.0737 - val_loss: 0.0927\n",
            "Epoch 37/100\n",
            "6/6 [==============================] - 2s 263ms/step - loss: 0.0730 - val_loss: 0.0918\n",
            "Epoch 38/100\n",
            "6/6 [==============================] - 1s 255ms/step - loss: 0.0731 - val_loss: 0.0924\n",
            "Epoch 39/100\n",
            "6/6 [==============================] - 2s 263ms/step - loss: 0.0727 - val_loss: 0.0916\n",
            "Epoch 40/100\n",
            "6/6 [==============================] - 1s 258ms/step - loss: 0.0729 - val_loss: 0.0918\n",
            "Epoch 41/100\n",
            "6/6 [==============================] - 1s 260ms/step - loss: 0.0723 - val_loss: 0.0908\n",
            "Epoch 42/100\n",
            "6/6 [==============================] - 1s 252ms/step - loss: 0.0726 - val_loss: 0.0915\n",
            "Epoch 43/100\n",
            "6/6 [==============================] - 1s 242ms/step - loss: 0.0731 - val_loss: 0.0909\n",
            "Epoch 44/100\n",
            "6/6 [==============================] - 1s 248ms/step - loss: 0.0725 - val_loss: 0.0908\n",
            "Epoch 45/100\n",
            "6/6 [==============================] - 1s 258ms/step - loss: 0.0723 - val_loss: 0.0903\n",
            "Epoch 46/100\n",
            "6/6 [==============================] - 1s 237ms/step - loss: 0.0717 - val_loss: 0.0909\n",
            "Epoch 47/100\n",
            "6/6 [==============================] - 2s 267ms/step - loss: 0.0723 - val_loss: 0.0899\n",
            "Epoch 48/100\n",
            "6/6 [==============================] - 1s 249ms/step - loss: 0.0720 - val_loss: 0.0902\n",
            "Epoch 49/100\n",
            "6/6 [==============================] - 2s 266ms/step - loss: 0.0713 - val_loss: 0.0892\n",
            "Epoch 50/100\n",
            "6/6 [==============================] - 1s 252ms/step - loss: 0.0714 - val_loss: 0.0904\n",
            "Epoch 51/100\n",
            "6/6 [==============================] - 2s 263ms/step - loss: 0.0723 - val_loss: 0.0889\n",
            "Epoch 52/100\n",
            "6/6 [==============================] - 1s 253ms/step - loss: 0.0721 - val_loss: 0.0893\n",
            "Epoch 53/100\n",
            "6/6 [==============================] - 1s 251ms/step - loss: 0.0717 - val_loss: 0.0890\n",
            "Epoch 54/100\n",
            "6/6 [==============================] - 2s 268ms/step - loss: 0.0714 - val_loss: 0.0887\n",
            "Epoch 55/100\n",
            "6/6 [==============================] - 1s 254ms/step - loss: 0.0710 - val_loss: 0.0890\n",
            "Epoch 56/100\n",
            "6/6 [==============================] - 2s 265ms/step - loss: 0.0704 - val_loss: 0.0883\n",
            "Epoch 57/100\n",
            "6/6 [==============================] - 2s 269ms/step - loss: 0.0707 - val_loss: 0.0880\n",
            "Epoch 58/100\n",
            "6/6 [==============================] - 2s 263ms/step - loss: 0.0706 - val_loss: 0.0885\n",
            "Epoch 59/100\n",
            "6/6 [==============================] - 2s 263ms/step - loss: 0.0707 - val_loss: 0.0873\n",
            "Epoch 60/100\n",
            "6/6 [==============================] - 1s 256ms/step - loss: 0.0713 - val_loss: 0.0883\n",
            "Epoch 61/100\n",
            "6/6 [==============================] - 1s 253ms/step - loss: 0.0711 - val_loss: 0.0878\n",
            "Epoch 62/100\n",
            "6/6 [==============================] - 2s 266ms/step - loss: 0.0700 - val_loss: 0.0871\n",
            "Epoch 63/100\n",
            "6/6 [==============================] - 1s 252ms/step - loss: 0.0700 - val_loss: 0.0875\n",
            "Epoch 64/100\n",
            "6/6 [==============================] - 2s 262ms/step - loss: 0.0693 - val_loss: 0.0869\n",
            "Epoch 65/100\n",
            "6/6 [==============================] - 2s 266ms/step - loss: 0.0695 - val_loss: 0.0867\n",
            "Epoch 66/100\n",
            "6/6 [==============================] - 2s 260ms/step - loss: 0.0692 - val_loss: 0.0870\n",
            "Epoch 67/100\n",
            "6/6 [==============================] - 2s 268ms/step - loss: 0.0693 - val_loss: 0.0858\n",
            "Epoch 68/100\n",
            "6/6 [==============================] - 1s 253ms/step - loss: 0.0699 - val_loss: 0.0868\n",
            "Epoch 69/100\n",
            "6/6 [==============================] - 2s 270ms/step - loss: 0.0694 - val_loss: 0.0858\n",
            "Epoch 70/100\n",
            "6/6 [==============================] - 2s 257ms/step - loss: 0.0690 - val_loss: 0.0859\n",
            "Epoch 71/100\n",
            "6/6 [==============================] - 2s 270ms/step - loss: 0.0688 - val_loss: 0.0855\n",
            "Epoch 72/100\n",
            "6/6 [==============================] - 2s 266ms/step - loss: 0.0684 - val_loss: 0.0855\n",
            "Epoch 73/100\n",
            "6/6 [==============================] - 2s 272ms/step - loss: 0.0683 - val_loss: 0.0848\n",
            "Epoch 74/100\n",
            "6/6 [==============================] - 1s 256ms/step - loss: 0.0682 - val_loss: 0.0857\n",
            "Epoch 75/100\n",
            "6/6 [==============================] - 2s 265ms/step - loss: 0.0683 - val_loss: 0.0841\n",
            "Epoch 76/100\n",
            "6/6 [==============================] - 2s 257ms/step - loss: 0.0690 - val_loss: 0.0856\n",
            "Epoch 77/100\n",
            "6/6 [==============================] - 2s 266ms/step - loss: 0.0686 - val_loss: 0.0837\n",
            "Epoch 78/100\n",
            "6/6 [==============================] - 1s 255ms/step - loss: 0.0685 - val_loss: 0.0846\n",
            "Epoch 79/100\n",
            "6/6 [==============================] - 2s 268ms/step - loss: 0.0679 - val_loss: 0.0833\n",
            "Epoch 80/100\n",
            "6/6 [==============================] - 1s 257ms/step - loss: 0.0676 - val_loss: 0.0840\n",
            "Epoch 81/100\n",
            "6/6 [==============================] - 2s 264ms/step - loss: 0.0670 - val_loss: 0.0827\n",
            "Epoch 82/100\n",
            "6/6 [==============================] - 2s 255ms/step - loss: 0.0678 - val_loss: 0.0840\n",
            "Epoch 83/100\n",
            "6/6 [==============================] - 2s 265ms/step - loss: 0.0672 - val_loss: 0.0822\n",
            "Epoch 84/100\n",
            "6/6 [==============================] - 1s 252ms/step - loss: 0.0674 - val_loss: 0.0832\n",
            "Epoch 85/100\n",
            "6/6 [==============================] - 1s 253ms/step - loss: 0.0665 - val_loss: 0.0817\n",
            "Epoch 86/100\n",
            "6/6 [==============================] - 1s 242ms/step - loss: 0.0668 - val_loss: 0.0823\n",
            "Epoch 87/100\n",
            "6/6 [==============================] - 1s 253ms/step - loss: 0.0653 - val_loss: 0.0815\n",
            "Epoch 88/100\n",
            "6/6 [==============================] - 1s 244ms/step - loss: 0.0653 - val_loss: 0.0815\n",
            "Epoch 89/100\n",
            "6/6 [==============================] - 1s 252ms/step - loss: 0.0644 - val_loss: 0.0812\n",
            "Epoch 90/100\n",
            "6/6 [==============================] - 1s 244ms/step - loss: 0.0645 - val_loss: 0.0821\n",
            "Epoch 91/100\n",
            "6/6 [==============================] - 2s 260ms/step - loss: 0.0653 - val_loss: 0.0804\n",
            "Epoch 92/100\n",
            "6/6 [==============================] - 1s 241ms/step - loss: 0.0674 - val_loss: 0.0813\n",
            "Epoch 93/100\n",
            "6/6 [==============================] - 1s 254ms/step - loss: 0.0638 - val_loss: 0.0798\n",
            "Epoch 94/100\n",
            "6/6 [==============================] - 1s 242ms/step - loss: 0.0640 - val_loss: 0.0800\n",
            "Epoch 95/100\n",
            "6/6 [==============================] - 1s 260ms/step - loss: 0.0632 - val_loss: 0.0795\n",
            "Epoch 96/100\n",
            "6/6 [==============================] - 1s 247ms/step - loss: 0.0628 - val_loss: 0.0795\n",
            "Epoch 97/100\n",
            "6/6 [==============================] - 1s 258ms/step - loss: 0.0630 - val_loss: 0.0784\n",
            "Epoch 98/100\n",
            "6/6 [==============================] - 1s 244ms/step - loss: 0.0632 - val_loss: 0.0795\n",
            "Epoch 99/100\n",
            "6/6 [==============================] - 2s 257ms/step - loss: 0.0624 - val_loss: 0.0777\n",
            "Epoch 100/100\n",
            "6/6 [==============================] - 1s 243ms/step - loss: 0.0626 - val_loss: 0.0781\n"
          ]
        }
      ],
      "source": [
        "early_stopping = EarlyStopping(monitor='val_loss',patience=10)\n",
        "tuner.search(train_X, train_y, epochs=100, batch_size=72, validation_data=(test_X, test_y),shuffle=False, callbacks=[early_stopping])"
      ]
    },
    {
      "cell_type": "code",
      "execution_count": null,
      "metadata": {
        "colab": {
          "base_uri": "https://localhost:8080/"
        },
        "id": "gVo9l3foLH15",
        "outputId": "242a5192-1902-4163-e322-b10a5ac71421"
      },
      "outputs": [
        {
          "name": "stdout",
          "output_type": "stream",
          "text": [
            "Results summary\n",
            "Results in dir/namee\n",
            "Showing 10 best trials\n",
            "Objective(name='val_loss', direction='min')\n"
          ]
        }
      ],
      "source": [
        "tuner.results_summary()"
      ]
    },
    {
      "cell_type": "markdown",
      "metadata": {
        "id": "nm9281SoM7Hy"
      },
      "source": [
        "### Hyperband"
      ]
    },
    {
      "cell_type": "code",
      "execution_count": null,
      "metadata": {
        "colab": {
          "base_uri": "https://localhost:8080/"
        },
        "id": "0IMZiMT1KAO6",
        "outputId": "fe89d8de-856f-4dd0-fd89-6f516b9b32b8"
      },
      "outputs": [
        {
          "name": "stdout",
          "output_type": "stream",
          "text": [
            "INFO:tensorflow:Reloading Oracle from existing project my_dir/intro_to_kt/oracle.json\n",
            "INFO:tensorflow:Reloading Tuner from my_dir/intro_to_kt/tuner0.json\n"
          ]
        }
      ],
      "source": [
        "tuner = kt.Hyperband(model_builder,\n",
        "                     objective='val_loss',\n",
        "                     max_epochs=10,\n",
        "                     factor=3,\n",
        "                     directory='my_dir',\n",
        "                     project_name='intro_to_kt')"
      ]
    },
    {
      "cell_type": "code",
      "execution_count": null,
      "metadata": {
        "id": "n6r3Ft2PIahk"
      },
      "outputs": [],
      "source": [
        "tuner.search(train_X, train_y, epochs=1000, batch_size=72, validation_data=(test_X, test_y),shuffle=False, callbacks=[early_stopping])"
      ]
    }
  ],
  "metadata": {
    "colab": {
      "name": "Copia di Test Moggio RNN.ipynb",
      "provenance": []
    },
    "kernelspec": {
      "display_name": "Python 3",
      "name": "python3"
    },
    "language_info": {
      "codemirror_mode": {
        "name": "ipython",
        "version": 3
      },
      "file_extension": ".py",
      "mimetype": "text/x-python",
      "name": "python",
      "nbconvert_exporter": "python",
      "pygments_lexer": "ipython3",
      "version": "3.9.7"
    }
  },
  "nbformat": 4,
  "nbformat_minor": 0
}
